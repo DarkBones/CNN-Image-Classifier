{
 "cells": [
  {
   "cell_type": "markdown",
   "metadata": {},
   "source": [
    "# Step 4 - Training the Model\n",
    "\n",
    "In [Step 2](Step 2 - Choosing a Model.ipynb), we determined we'll use **InceptionV3** as our model.\n",
    "In [Step 3](Step 3 - Fine-tuning the Model.ipynb), we have decided:\n",
    "- We'll use one hidden layer of **256** nodes \n",
    "- A dropout layer of **0.4**.\n",
    "\n",
    "Now that we have a good understanding of our model, it's time to train the model."
   ]
  },
  {
   "cell_type": "code",
   "execution_count": 1,
   "metadata": {},
   "outputs": [
    {
     "name": "stderr",
     "output_type": "stream",
     "text": [
      "Using TensorFlow backend.\n"
     ]
    }
   ],
   "source": [
    "# import dependencies\n",
    "from image_preprocessor import ImagePreprocessor\n",
    "\n",
    "import numpy as np\n",
    "import random\n",
    "import os\n",
    "import shutil\n",
    "from glob import glob\n",
    "\n",
    "from sklearn.datasets import load_files\n",
    "from keras.utils import np_utils\n",
    "from keras.preprocessing import image as Image\n",
    "\n",
    "from keras.applications.vgg19 import VGG19\n",
    "from keras.applications.resnet50 import ResNet50\n",
    "from keras.applications.inception_v3 import InceptionV3\n",
    "\n",
    "import keras.callbacks as callbacks\n",
    "from keras.callbacks import ModelCheckpoint\n",
    "from keras.callbacks import EarlyStopping\n",
    "from keras.models import Sequential, Model\n",
    "from keras.layers import Conv2D, MaxPooling2D, GlobalAveragePooling2D\n",
    "from keras.layers import Dropout, Flatten, Dense\n",
    "from keras import optimizers\n",
    "from keras.preprocessing.image import ImageDataGenerator, array_to_img, img_to_array, load_img\n",
    "from keras.models import load_model\n",
    "from keras.callbacks import TensorBoard\n",
    "\n",
    "import re\n",
    "from sklearn.metrics import f1_score\n",
    "\n",
    "import matplotlib.pyplot as plt\n",
    "import matplotlib.image as mpimg"
   ]
  },
  {
   "cell_type": "code",
   "execution_count": 2,
   "metadata": {
    "collapsed": true
   },
   "outputs": [],
   "source": [
    "root_dir = os.path.join('..', 'application', 'images')\n",
    "originals_dir = os.path.join(root_dir, \"original\")\n",
    "training_dir = os.path.join(root_dir, \"train\")\n",
    "test_dir = os.path.join(root_dir, \"test\")\n",
    "val_dir = os.path.join(root_dir, \"validation\")\n",
    "\n",
    "target_imagesize = (256, 256)\n",
    "\n",
    "clear_existing_data = False # if true, data in training, test and validation directories will be deleted before splitting the data in the originals directory\n",
    "augment_data = True # whether images should be augmented during preprocessing\n",
    "augmentations = 25 # how many augmentations to make for each original image\n",
    "\n",
    "random_seed = 7\n",
    "\n",
    "epochs = 500\n",
    "batch_size = 50\n",
    "saved_models_dir = os.path.join('..', 'application', 'saved_models')\n",
    "\n",
    "modelname = 'cnn_image_model'"
   ]
  },
  {
   "cell_type": "code",
   "execution_count": 3,
   "metadata": {},
   "outputs": [
    {
     "name": "stdout",
     "output_type": "stream",
     "text": [
      "6 image categories\n",
      "465 total images\n",
      "\n",
      "279 training images\n",
      "93 validation images\n",
      "93 test images\n",
      "\n",
      "Categories:\n",
      "  - animal\n",
      "  - city_scape\n",
      "  - food\n",
      "  - group\n",
      "  - landscape\n",
      "  - me\n"
     ]
    }
   ],
   "source": [
    "preprocessor = ImagePreprocessor()\n",
    "preprocessor.root_dir = root_dir\n",
    "preprocessor.originals_dir = originals_dir\n",
    "preprocessor.training_dir = training_dir\n",
    "preprocessor.test_dir = test_dir\n",
    "preprocessor.val_dir = val_dir\n",
    "preprocessor.random_seed = random_seed\n",
    "preprocessor.target_imagesize = target_imagesize\n",
    "preprocessor.clear_existing_data = clear_existing_data\n",
    "\n",
    "preprocessor.initialize()\n",
    "categories = preprocessor.categories\n",
    "training_count = preprocessor.training_count\n",
    "validation_count = preprocessor.validation_count\n",
    "test_count = preprocessor.test_count"
   ]
  },
  {
   "cell_type": "code",
   "execution_count": 4,
   "metadata": {},
   "outputs": [
    {
     "name": "stdout",
     "output_type": "stream",
     "text": [
      "Found 279 images belonging to 6 classes.\n",
      "Found 93 images belonging to 6 classes.\n"
     ]
    }
   ],
   "source": [
    "img_datagen = ImageDataGenerator(\n",
    "    rotation_range=40,\n",
    "    width_shift_range=0.2,\n",
    "    height_shift_range=0.2,\n",
    "    shear_range=0.2,\n",
    "    zoom_range=0.2,\n",
    "    horizontal_flip=True,\n",
    "    rescale=1./255,\n",
    "    fill_mode='reflect')\n",
    "\n",
    "train_generator = img_datagen.flow_from_directory(training_dir,\n",
    "                                                   target_size=target_imagesize,\n",
    "                                                   batch_size=augmentations,\n",
    "                                                   shuffle=True,\n",
    "                                                   seed=random_seed)\n",
    "\n",
    "validation_generator = img_datagen.flow_from_directory(val_dir,\n",
    "                                                   target_size=target_imagesize,\n",
    "                                                   batch_size=augmentations,\n",
    "                                                   shuffle=True,\n",
    "                                                   seed=random_seed)"
   ]
  },
  {
   "cell_type": "markdown",
   "metadata": {},
   "source": [
    "## Callback functions\n",
    "\n",
    "After each epoch, keras will call the three functions in the section below.\n",
    "\n",
    "- **tensorboard:** To see graphs on how our model is doing, we'll use Tensorflow's Tensorboard\n",
    "- **earlystopping:** If the validation loss hasn't shown any improvement for 20 epochs in a row, it's unlikely the model will perform better with more training iterations, so we'll stop training at that point.\n",
    "- **checkpointer:** Every time the validation loss improves, we save the model"
   ]
  },
  {
   "cell_type": "code",
   "execution_count": 5,
   "metadata": {
    "collapsed": true
   },
   "outputs": [],
   "source": [
    "tensorboard = TensorBoard(log_dir='./logs', histogram_freq=0,\n",
    "                      write_graph=True, write_images=True)\n",
    "\n",
    "earlystopping = EarlyStopping(monitor='val_loss', min_delta=0, patience=20, verbose=1, mode='auto')\n",
    "\n",
    "checkpointer = ModelCheckpoint(filepath=os.path.join(saved_models_dir, modelname + '.hdf5'), \n",
    "                       verbose=1, save_best_only=True)"
   ]
  },
  {
   "cell_type": "code",
   "execution_count": 6,
   "metadata": {
    "collapsed": true
   },
   "outputs": [],
   "source": [
    "def predict_category(img_path, pred_model):\n",
    "    img_tensor = preprocessor.file_to_tensor(img_path)\n",
    "    h = pred_model.predict(img_tensor)\n",
    "    return categories[np.argmax(h)]"
   ]
  },
  {
   "cell_type": "code",
   "execution_count": 7,
   "metadata": {
    "collapsed": true
   },
   "outputs": [],
   "source": [
    "def f1_score_cal(model=None):\n",
    "    test_images = np.array(glob(os.path.join(test_dir, \"*\", \"*\")))\n",
    "    y_true = []\n",
    "    y_pred = []\n",
    "    for img in test_images:\n",
    "        y_true.append(categories.index(re.split(r'[\\\\/]',img)[-2]))\n",
    "        pred = predict_category(img, model)\n",
    "        y_pred.append(categories.index(pred))\n",
    "    \n",
    "    return f1_score(y_true, y_pred, average='weighted')"
   ]
  },
  {
   "cell_type": "code",
   "execution_count": 8,
   "metadata": {},
   "outputs": [
    {
     "name": "stdout",
     "output_type": "stream",
     "text": [
      "Training  cnn_image_model\n",
      "Epoch 1/500\n",
      "26/27 [===========================>..] - ETA: 1s - loss: 1.7847 - acc: 0.2627"
     ]
    },
    {
     "name": "stderr",
     "output_type": "stream",
     "text": [
      "C:\\Users\\donke\\Anaconda2\\envs\\cnn_image_classification\\lib\\site-packages\\PIL\\Image.py:916: UserWarning: Palette images with Transparency   expressed in bytes should be converted to RGBA images\n",
      "  'to RGBA images')\n"
     ]
    },
    {
     "name": "stdout",
     "output_type": "stream",
     "text": [
      "Epoch 00000: val_loss improved from inf to 1.65101, saving model to ..\\application\\saved_models\\cnn_image_model.hdf5\n",
      "27/27 [==============================] - 47s - loss: 1.7761 - acc: 0.2675 - val_loss: 1.6510 - val_acc: 0.3365\n",
      "Epoch 2/500\n",
      "26/27 [===========================>..] - ETA: 0s - loss: 1.5602 - acc: 0.4558Epoch 00001: val_loss improved from 1.65101 to 1.38057, saving model to ..\\application\\saved_models\\cnn_image_model.hdf5\n",
      "27/27 [==============================] - 33s - loss: 1.5521 - acc: 0.4607 - val_loss: 1.3806 - val_acc: 0.5924\n",
      "Epoch 3/500\n",
      "26/27 [===========================>..] - ETA: 0s - loss: 1.3211 - acc: 0.5927Epoch 00002: val_loss improved from 1.38057 to 1.13065, saving model to ..\\application\\saved_models\\cnn_image_model.hdf5\n",
      "27/27 [==============================] - 32s - loss: 1.3199 - acc: 0.5914 - val_loss: 1.1306 - val_acc: 0.6682\n",
      "Epoch 4/500\n",
      "26/27 [===========================>..] - ETA: 0s - loss: 1.1129 - acc: 0.6585Epoch 00003: val_loss improved from 1.13065 to 0.89488, saving model to ..\\application\\saved_models\\cnn_image_model.hdf5\n",
      "27/27 [==============================] - 32s - loss: 1.1349 - acc: 0.6442 - val_loss: 0.8949 - val_acc: 0.7156\n",
      "Epoch 5/500\n",
      "26/27 [===========================>..] - ETA: 0s - loss: 1.0096 - acc: 0.6777Epoch 00004: val_loss improved from 0.89488 to 0.64611, saving model to ..\\application\\saved_models\\cnn_image_model.hdf5\n",
      "27/27 [==============================] - 32s - loss: 0.9894 - acc: 0.6862 - val_loss: 0.6461 - val_acc: 0.8152\n",
      "Epoch 6/500\n",
      "26/27 [===========================>..] - ETA: 0s - loss: 0.7648 - acc: 0.7481Epoch 00005: val_loss improved from 0.64611 to 0.63714, saving model to ..\\application\\saved_models\\cnn_image_model.hdf5\n",
      "27/27 [==============================] - 32s - loss: 0.7591 - acc: 0.7533 - val_loss: 0.6371 - val_acc: 0.8104\n",
      "Epoch 7/500\n",
      "26/27 [===========================>..] - ETA: 0s - loss: 0.8247 - acc: 0.7515Epoch 00006: val_loss did not improve\n",
      "27/27 [==============================] - 33s - loss: 0.8360 - acc: 0.7471 - val_loss: 0.6722 - val_acc: 0.8057\n",
      "Epoch 8/500\n",
      "26/27 [===========================>..] - ETA: 0s - loss: 0.5601 - acc: 0.8212Epoch 00007: val_loss improved from 0.63714 to 0.54083, saving model to ..\\application\\saved_models\\cnn_image_model.hdf5\n",
      "27/27 [==============================] - 32s - loss: 0.5959 - acc: 0.8095 - val_loss: 0.5408 - val_acc: 0.8341\n",
      "Epoch 9/500\n",
      "26/27 [===========================>..] - ETA: 0s - loss: 0.6077 - acc: 0.8096Epoch 00008: val_loss did not improve\n",
      "27/27 [==============================] - 29s - loss: 0.6070 - acc: 0.8038 - val_loss: 0.6459 - val_acc: 0.8104\n",
      "Epoch 10/500\n",
      "26/27 [===========================>..] - ETA: 0s - loss: 0.6133 - acc: 0.8019Epoch 00009: val_loss did not improve\n",
      "27/27 [==============================] - 34s - loss: 0.6173 - acc: 0.7993 - val_loss: 0.7223 - val_acc: 0.7820\n",
      "Epoch 11/500\n",
      "26/27 [===========================>..] - ETA: 0s - loss: 0.6296 - acc: 0.7938Epoch 00010: val_loss did not improve\n",
      "27/27 [==============================] - 32s - loss: 0.6451 - acc: 0.7873 - val_loss: 0.5551 - val_acc: 0.8057\n",
      "Epoch 12/500\n",
      "26/27 [===========================>..] - ETA: 0s - loss: 0.5488 - acc: 0.8015Epoch 00011: val_loss improved from 0.54083 to 0.51375, saving model to ..\\application\\saved_models\\cnn_image_model.hdf5\n",
      "27/27 [==============================] - 30s - loss: 0.6001 - acc: 0.7735 - val_loss: 0.5138 - val_acc: 0.8483\n",
      "Epoch 13/500\n",
      "26/27 [===========================>..] - ETA: 0s - loss: 0.4139 - acc: 0.8650Epoch 00012: val_loss did not improve\n",
      "27/27 [==============================] - 32s - loss: 0.4096 - acc: 0.8676 - val_loss: 0.5319 - val_acc: 0.8104\n",
      "Epoch 14/500\n",
      "26/27 [===========================>..] - ETA: 0s - loss: 0.5016 - acc: 0.8477Epoch 00013: val_loss did not improve\n",
      "27/27 [==============================] - 32s - loss: 0.4877 - acc: 0.8542 - val_loss: 0.6351 - val_acc: 0.8104\n",
      "Epoch 15/500\n",
      "26/27 [===========================>..] - ETA: 0s - loss: 0.4572 - acc: 0.8500Epoch 00014: val_loss improved from 0.51375 to 0.47382, saving model to ..\\application\\saved_models\\cnn_image_model.hdf5\n",
      "27/27 [==============================] - 34s - loss: 0.4663 - acc: 0.8484 - val_loss: 0.4738 - val_acc: 0.8341\n",
      "Epoch 16/500\n",
      "26/27 [===========================>..] - ETA: 0s - loss: 0.4921 - acc: 0.8385Epoch 00015: val_loss did not improve\n",
      "27/27 [==============================] - 31s - loss: 0.5159 - acc: 0.8271 - val_loss: 0.6853 - val_acc: 0.7725\n",
      "Epoch 17/500\n",
      "26/27 [===========================>..] - ETA: 0s - loss: 0.4101 - acc: 0.8623Epoch 00016: val_loss did not improve\n",
      "27/27 [==============================] - 30s - loss: 0.4071 - acc: 0.8617 - val_loss: 0.5389 - val_acc: 0.8389\n",
      "Epoch 18/500\n",
      "26/27 [===========================>..] - ETA: 0s - loss: 0.3603 - acc: 0.9012Epoch 00017: val_loss did not improve\n",
      "27/27 [==============================] - 32s - loss: 0.3578 - acc: 0.9004 - val_loss: 0.5136 - val_acc: 0.8246\n",
      "Epoch 19/500\n",
      "26/27 [===========================>..] - ETA: 0s - loss: 0.3707 - acc: 0.8877Epoch 00018: val_loss improved from 0.47382 to 0.46456, saving model to ..\\application\\saved_models\\cnn_image_model.hdf5\n",
      "27/27 [==============================] - 32s - loss: 0.3697 - acc: 0.8871 - val_loss: 0.4646 - val_acc: 0.8341\n",
      "Epoch 20/500\n",
      "26/27 [===========================>..] - ETA: 0s - loss: 0.3244 - acc: 0.8746Epoch 00019: val_loss did not improve\n",
      "27/27 [==============================] - 31s - loss: 0.3185 - acc: 0.8794 - val_loss: 0.5079 - val_acc: 0.8199\n",
      "Epoch 21/500\n",
      "26/27 [===========================>..] - ETA: 0s - loss: 0.3601 - acc: 0.8631Epoch 00020: val_loss did not improve\n",
      "27/27 [==============================] - 34s - loss: 0.3567 - acc: 0.8675 - val_loss: 0.5968 - val_acc: 0.8152\n",
      "Epoch 22/500\n",
      "26/27 [===========================>..] - ETA: 0s - loss: 0.4073 - acc: 0.8762Epoch 00021: val_loss did not improve\n",
      "27/27 [==============================] - 33s - loss: 0.3980 - acc: 0.8796 - val_loss: 0.5645 - val_acc: 0.8199\n",
      "Epoch 23/500\n",
      "26/27 [===========================>..] - ETA: 0s - loss: 0.3377 - acc: 0.9108Epoch 00022: val_loss did not improve\n",
      "27/27 [==============================] - 33s - loss: 0.3371 - acc: 0.9094 - val_loss: 0.5417 - val_acc: 0.8152\n",
      "Epoch 24/500\n",
      "26/27 [===========================>..] - ETA: 0s - loss: 0.3035 - acc: 0.9012Epoch 00023: val_loss improved from 0.46456 to 0.44449, saving model to ..\\application\\saved_models\\cnn_image_model.hdf5\n",
      "27/27 [==============================] - 31s - loss: 0.3195 - acc: 0.8958 - val_loss: 0.4445 - val_acc: 0.8720\n",
      "Epoch 25/500\n",
      "26/27 [===========================>..] - ETA: 0s - loss: 0.3478 - acc: 0.8792Epoch 00024: val_loss did not improve\n",
      "27/27 [==============================] - 31s - loss: 0.3438 - acc: 0.8825 - val_loss: 0.5144 - val_acc: 0.8531\n",
      "Epoch 26/500\n",
      "26/27 [===========================>..] - ETA: 0s - loss: 0.3400 - acc: 0.9023Epoch 00025: val_loss did not improve\n",
      "27/27 [==============================] - 33s - loss: 0.3374 - acc: 0.9033 - val_loss: 0.5280 - val_acc: 0.8436\n",
      "Epoch 27/500\n",
      "26/27 [===========================>..] - ETA: 0s - loss: 0.2936 - acc: 0.8977Epoch 00026: val_loss did not improve\n",
      "27/27 [==============================] - 34s - loss: 0.2919 - acc: 0.9004 - val_loss: 0.4835 - val_acc: 0.8483\n",
      "Epoch 28/500\n",
      "26/27 [===========================>..] - ETA: 0s - loss: 0.2682 - acc: 0.9123Epoch 00027: val_loss did not improve\n",
      "27/27 [==============================] - 31s - loss: 0.2751 - acc: 0.9063 - val_loss: 0.5566 - val_acc: 0.8199\n",
      "Epoch 29/500\n",
      "26/27 [===========================>..] - ETA: 0s - loss: 0.4258 - acc: 0.8673Epoch 00028: val_loss did not improve\n",
      "27/27 [==============================] - 32s - loss: 0.4126 - acc: 0.8704 - val_loss: 0.5379 - val_acc: 0.8436\n",
      "Epoch 30/500\n",
      "26/27 [===========================>..] - ETA: 0s - loss: 0.3591 - acc: 0.8631Epoch 00029: val_loss did not improve\n",
      "27/27 [==============================] - 32s - loss: 0.3527 - acc: 0.8661 - val_loss: 0.5548 - val_acc: 0.8104\n",
      "Epoch 31/500\n",
      "26/27 [===========================>..] - ETA: 0s - loss: 0.3237 - acc: 0.8900Epoch 00030: val_loss did not improve\n"
     ]
    },
    {
     "name": "stdout",
     "output_type": "stream",
     "text": [
      "27/27 [==============================] - 32s - loss: 0.3246 - acc: 0.8885 - val_loss: 0.5611 - val_acc: 0.8246\n",
      "Epoch 32/500\n",
      "26/27 [===========================>..] - ETA: 0s - loss: 0.2877 - acc: 0.9004Epoch 00031: val_loss did not improve\n",
      "27/27 [==============================] - 31s - loss: 0.2817 - acc: 0.9046 - val_loss: 0.5407 - val_acc: 0.8199\n",
      "Epoch 33/500\n",
      "26/27 [===========================>..] - ETA: 0s - loss: 0.3257 - acc: 0.8815Epoch 00032: val_loss did not improve\n",
      "27/27 [==============================] - 33s - loss: 0.3178 - acc: 0.8854 - val_loss: 0.4806 - val_acc: 0.8246\n",
      "Epoch 34/500\n",
      "26/27 [===========================>..] - ETA: 0s - loss: 0.2877 - acc: 0.9135Epoch 00033: val_loss did not improve\n",
      "27/27 [==============================] - 34s - loss: 0.2825 - acc: 0.9138 - val_loss: 0.4691 - val_acc: 0.8436\n",
      "Epoch 35/500\n",
      "26/27 [===========================>..] - ETA: 0s - loss: 0.2555 - acc: 0.9104Epoch 00034: val_loss improved from 0.44449 to 0.43209, saving model to ..\\application\\saved_models\\cnn_image_model.hdf5\n",
      "27/27 [==============================] - 32s - loss: 0.2610 - acc: 0.9108 - val_loss: 0.4321 - val_acc: 0.8578\n",
      "Epoch 36/500\n",
      "26/27 [===========================>..] - ETA: 0s - loss: 0.3419 - acc: 0.8942Epoch 00035: val_loss did not improve\n",
      "27/27 [==============================] - 34s - loss: 0.3914 - acc: 0.8807 - val_loss: 0.5122 - val_acc: 0.8246\n",
      "Epoch 37/500\n",
      "26/27 [===========================>..] - ETA: 0s - loss: 0.3226 - acc: 0.8838Epoch 00036: val_loss did not improve\n",
      "27/27 [==============================] - 33s - loss: 0.3232 - acc: 0.8840 - val_loss: 0.5043 - val_acc: 0.8341\n",
      "Epoch 38/500\n",
      "26/27 [===========================>..] - ETA: 0s - loss: 0.2305 - acc: 0.9323Epoch 00037: val_loss did not improve\n",
      "27/27 [==============================] - 32s - loss: 0.2406 - acc: 0.9287 - val_loss: 0.4983 - val_acc: 0.8294\n",
      "Epoch 39/500\n",
      "26/27 [===========================>..] - ETA: 0s - loss: 0.2488 - acc: 0.9146Epoch 00038: val_loss did not improve\n",
      "27/27 [==============================] - 33s - loss: 0.2450 - acc: 0.9152 - val_loss: 0.5453 - val_acc: 0.8341\n",
      "Epoch 40/500\n",
      "26/27 [===========================>..] - ETA: 0s - loss: 0.2379 - acc: 0.8992Epoch 00039: val_loss did not improve\n",
      "27/27 [==============================] - 31s - loss: 0.2577 - acc: 0.8942 - val_loss: 0.5744 - val_acc: 0.8389\n",
      "Epoch 41/500\n",
      "26/27 [===========================>..] - ETA: 0s - loss: 0.2333 - acc: 0.9238Epoch 00040: val_loss did not improve\n",
      "27/27 [==============================] - 32s - loss: 0.2275 - acc: 0.9256 - val_loss: 0.5156 - val_acc: 0.8341\n",
      "Epoch 42/500\n",
      "26/27 [===========================>..] - ETA: 0s - loss: 0.3268 - acc: 0.8735Epoch 00041: val_loss did not improve\n",
      "27/27 [==============================] - 35s - loss: 0.3220 - acc: 0.8764 - val_loss: 0.5827 - val_acc: 0.8152\n",
      "Epoch 43/500\n",
      "26/27 [===========================>..] - ETA: 0s - loss: 0.2265 - acc: 0.9150Epoch 00042: val_loss did not improve\n",
      "27/27 [==============================] - 33s - loss: 0.2262 - acc: 0.9123 - val_loss: 0.5003 - val_acc: 0.8389\n",
      "Epoch 44/500\n",
      "26/27 [===========================>..] - ETA: 0s - loss: 0.2449 - acc: 0.9104Epoch 00043: val_loss did not improve\n",
      "27/27 [==============================] - 31s - loss: 0.2414 - acc: 0.9137 - val_loss: 0.4606 - val_acc: 0.8341\n",
      "Epoch 45/500\n",
      "26/27 [===========================>..] - ETA: 0s - loss: 0.2156 - acc: 0.9273Epoch 00044: val_loss did not improve\n",
      "27/27 [==============================] - 33s - loss: 0.2135 - acc: 0.9272 - val_loss: 0.5225 - val_acc: 0.8057\n",
      "Epoch 46/500\n",
      "26/27 [===========================>..] - ETA: 0s - loss: 0.2392 - acc: 0.9115Epoch 00045: val_loss did not improve\n",
      "27/27 [==============================] - 34s - loss: 0.2522 - acc: 0.9122 - val_loss: 0.5927 - val_acc: 0.8389\n",
      "Epoch 47/500\n",
      "26/27 [===========================>..] - ETA: 0s - loss: 0.2366 - acc: 0.9181Epoch 00046: val_loss did not improve\n",
      "27/27 [==============================] - 33s - loss: 0.2332 - acc: 0.9197 - val_loss: 0.5982 - val_acc: 0.8531\n",
      "Epoch 48/500\n",
      "26/27 [===========================>..] - ETA: 0s - loss: 0.1901 - acc: 0.9308Epoch 00047: val_loss did not improve\n",
      "27/27 [==============================] - 31s - loss: 0.2591 - acc: 0.9151 - val_loss: 0.5166 - val_acc: 0.8483\n",
      "Epoch 49/500\n",
      "26/27 [===========================>..] - ETA: 0s - loss: 0.2317 - acc: 0.9208Epoch 00048: val_loss did not improve\n",
      "27/27 [==============================] - 32s - loss: 0.2353 - acc: 0.9211 - val_loss: 0.5473 - val_acc: 0.8341\n",
      "Epoch 50/500\n",
      "26/27 [===========================>..] - ETA: 0s - loss: 0.2427 - acc: 0.9258Epoch 00049: val_loss did not improve\n",
      "27/27 [==============================] - 32s - loss: 0.2443 - acc: 0.9227 - val_loss: 0.5833 - val_acc: 0.8152\n",
      "Epoch 51/500\n",
      "26/27 [===========================>..] - ETA: 0s - loss: 0.2660 - acc: 0.8954Epoch 00050: val_loss did not improve\n",
      "27/27 [==============================] - 36s - loss: 0.2596 - acc: 0.8972 - val_loss: 0.5429 - val_acc: 0.8152\n",
      "Epoch 52/500\n",
      "26/27 [===========================>..] - ETA: 0s - loss: 0.2722 - acc: 0.8935Epoch 00051: val_loss did not improve\n",
      "27/27 [==============================] - 31s - loss: 0.2617 - acc: 0.8986 - val_loss: 0.5985 - val_acc: 0.8152\n",
      "Epoch 53/500\n",
      "26/27 [===========================>..] - ETA: 0s - loss: 0.1933 - acc: 0.9369Epoch 00052: val_loss did not improve\n",
      "27/27 [==============================] - 32s - loss: 0.1985 - acc: 0.9376 - val_loss: 0.5868 - val_acc: 0.8294\n",
      "Epoch 54/500\n",
      "26/27 [===========================>..] - ETA: 0s - loss: 0.2394 - acc: 0.9131Epoch 00053: val_loss did not improve\n",
      "27/27 [==============================] - 33s - loss: 0.2414 - acc: 0.9108 - val_loss: 0.5163 - val_acc: 0.8199\n",
      "Epoch 55/500\n",
      "26/27 [===========================>..] - ETA: 0s - loss: 0.2173 - acc: 0.9304Epoch 00054: val_loss did not improve\n",
      "27/27 [==============================] - 33s - loss: 0.2155 - acc: 0.9301 - val_loss: 0.6302 - val_acc: 0.8152\n",
      "Epoch 56/500\n",
      "26/27 [===========================>..] - ETA: 0s - loss: 0.2973 - acc: 0.9108Epoch 00055: val_loss did not improve\n",
      "27/27 [==============================] - 33s - loss: 0.2889 - acc: 0.9150 - val_loss: 0.5196 - val_acc: 0.8578\n",
      "Epoch 00055: early stopping\n"
     ]
    }
   ],
   "source": [
    "print(\"Training \", modelname)\n",
    "\n",
    "model = InceptionV3(include_top=False, weights = 'imagenet', input_shape = (target_imagesize[0], target_imagesize[1], 3))\n",
    "for layer in model.layers:\n",
    "    layer.trainable = False\n",
    "\n",
    "# custom Layers \n",
    "cus_layers = model.output\n",
    "cus_layers = Flatten()(cus_layers)\n",
    "\n",
    "cus_layers = Dense(256, activation=\"relu\")(cus_layers)\n",
    "cus_layers = Dropout(0.4)(cus_layers)\n",
    "predictions = Dense(len(categories), activation=\"sigmoid\")(cus_layers)\n",
    "\n",
    "model_final = Model(inputs = model.input, outputs = predictions)\n",
    "model_final.compile(loss = \"categorical_crossentropy\", optimizer = optimizers.SGD(lr=0.0001, momentum=0.9), metrics=['accuracy'])\n",
    "# train the model\n",
    "model_final.fit_generator(train_generator,\n",
    "                         steps_per_epoch=training_count // 10, \n",
    "                          epochs=epochs,\n",
    "                         validation_data = validation_generator,\n",
    "                         validation_steps=validation_count // 10,\n",
    "                         callbacks=[checkpointer, tensorboard, earlystopping],\n",
    "                         verbose=1)\n",
    "\n",
    "model_final.load_weights(filepath=os.path.join(saved_models_dir, modelname + '.hdf5'))"
   ]
  },
  {
   "cell_type": "code",
   "execution_count": 9,
   "metadata": {},
   "outputs": [
    {
     "name": "stdout",
     "output_type": "stream",
     "text": [
      "0.8357771261\n"
     ]
    }
   ],
   "source": [
    "print(f1_score_cal(model_final))"
   ]
  },
  {
   "cell_type": "code",
   "execution_count": null,
   "metadata": {
    "collapsed": true
   },
   "outputs": [],
   "source": []
  }
 ],
 "metadata": {
  "kernelspec": {
   "display_name": "Python [conda env:cnn_image_classification]",
   "language": "python",
   "name": "conda-env-cnn_image_classification-py"
  },
  "language_info": {
   "codemirror_mode": {
    "name": "ipython",
    "version": 3
   },
   "file_extension": ".py",
   "mimetype": "text/x-python",
   "name": "python",
   "nbconvert_exporter": "python",
   "pygments_lexer": "ipython3",
   "version": "3.6.3"
  }
 },
 "nbformat": 4,
 "nbformat_minor": 2
}
