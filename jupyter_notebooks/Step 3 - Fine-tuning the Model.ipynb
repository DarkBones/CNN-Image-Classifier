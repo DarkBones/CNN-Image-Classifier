{
 "cells": [
  {
   "cell_type": "markdown",
   "metadata": {},
   "source": [
    "# Step 3 - Fine-tuning the Model\n",
    "\n",
    "In [Step 2 - Choosing a Model](Step 2 - Choosing a Model.ipynb), we settled on using a pre-trained model called **InceptionV3**.\n",
    "\n",
    "In this notebook, we take this model and fine-tune some parameters to see which combination achieves the best results. Like before, we will use the *F1 Score* metric to determine which model performs best.\n",
    "![title](notebook_images/f1_formula.jpg)"
   ]
  },
  {
   "cell_type": "code",
   "execution_count": 1,
   "metadata": {},
   "outputs": [
    {
     "name": "stderr",
     "output_type": "stream",
     "text": [
      "Using TensorFlow backend.\n"
     ]
    }
   ],
   "source": [
    "# import dependencies\n",
    "from image_preprocessor import ImagePreprocessor\n",
    "\n",
    "import numpy as np\n",
    "import random\n",
    "import os\n",
    "import shutil\n",
    "from glob import glob\n",
    "\n",
    "from sklearn.datasets import load_files\n",
    "from keras.utils import np_utils\n",
    "from keras.preprocessing import image as Image\n",
    "\n",
    "from keras.applications.vgg19 import VGG19\n",
    "from keras.applications.resnet50 import ResNet50\n",
    "from keras.applications.inception_v3 import InceptionV3\n",
    "\n",
    "import keras.callbacks as callbacks\n",
    "from keras.callbacks import ModelCheckpoint\n",
    "from keras.models import Sequential, Model\n",
    "from keras.layers import Conv2D, MaxPooling2D, GlobalAveragePooling2D\n",
    "from keras.layers import Dropout, Flatten, Dense\n",
    "from keras import optimizers\n",
    "from keras.preprocessing.image import ImageDataGenerator, array_to_img, img_to_array, load_img\n",
    "from keras.models import load_model\n",
    "from keras.callbacks import TensorBoard\n",
    "\n",
    "import re\n",
    "from sklearn.metrics import f1_score\n",
    "\n",
    "import matplotlib.pyplot as plt\n",
    "import matplotlib.image as mpimg"
   ]
  },
  {
   "cell_type": "code",
   "execution_count": 2,
   "metadata": {
    "collapsed": true
   },
   "outputs": [],
   "source": [
    "root_dir = os.path.join('..', 'application', 'images')\n",
    "originals_dir = os.path.join(root_dir, \"original\")\n",
    "training_dir = os.path.join(root_dir, \"train\")\n",
    "test_dir = os.path.join(root_dir, \"test\")\n",
    "val_dir = os.path.join(root_dir, \"validation\")\n",
    "\n",
    "target_imagesize = (256, 256)\n",
    "\n",
    "clear_existing_data = True # if true, data in training, test and validation directories will be deleted before splitting the data in the originals directory\n",
    "augment_data = True # whether images should be augmented during preprocessing\n",
    "augmentations = 20 # how many augmentations to make for each original image\n",
    "\n",
    "random_seed = 7\n",
    "\n",
    "epochs = 3\n",
    "batch_size = 50\n",
    "saved_models_dir = os.path.join('..', 'application', 'saved_models')"
   ]
  },
  {
   "cell_type": "code",
   "execution_count": 3,
   "metadata": {},
   "outputs": [
    {
     "name": "stdout",
     "output_type": "stream",
     "text": [
      "6 image categories\n",
      "465 total images\n",
      "\n",
      "279 training images\n",
      "93 validation images\n",
      "93 test images\n",
      "\n",
      "Categories:\n",
      "  - animal\n",
      "  - city_scape\n",
      "  - food\n",
      "  - group\n",
      "  - landscape\n",
      "  - me\n"
     ]
    }
   ],
   "source": [
    "preprocessor = ImagePreprocessor()\n",
    "preprocessor.root_dir = root_dir\n",
    "preprocessor.originals_dir = originals_dir\n",
    "preprocessor.training_dir = training_dir\n",
    "preprocessor.test_dir = test_dir\n",
    "preprocessor.val_dir = val_dir\n",
    "preprocessor.random_seed = random_seed\n",
    "preprocessor.target_imagesize = target_imagesize\n",
    "preprocessor.clear_existing_data = clear_existing_data\n",
    "\n",
    "preprocessor.initialize()\n",
    "categories = preprocessor.categories\n",
    "training_count = preprocessor.training_count\n",
    "validation_count = preprocessor.validation_count\n",
    "test_count = preprocessor.test_count"
   ]
  },
  {
   "cell_type": "code",
   "execution_count": 4,
   "metadata": {},
   "outputs": [
    {
     "name": "stdout",
     "output_type": "stream",
     "text": [
      "Found 279 images belonging to 6 classes.\n",
      "Found 93 images belonging to 6 classes.\n"
     ]
    }
   ],
   "source": [
    "img_datagen = ImageDataGenerator(\n",
    "    rotation_range=40,\n",
    "    width_shift_range=0.2,\n",
    "    height_shift_range=0.2,\n",
    "    shear_range=0.2,\n",
    "    zoom_range=0.2,\n",
    "    horizontal_flip=True,\n",
    "    rescale=1./255,\n",
    "    fill_mode='reflect')\n",
    "\n",
    "train_generator = img_datagen.flow_from_directory(training_dir,\n",
    "                                                   target_size=target_imagesize,\n",
    "                                                   batch_size=augmentations,\n",
    "                                                   shuffle=True,\n",
    "                                                   seed=random_seed)\n",
    "\n",
    "validation_generator = img_datagen.flow_from_directory(val_dir,\n",
    "                                                   target_size=target_imagesize,\n",
    "                                                   batch_size=augmentations,\n",
    "                                                   shuffle=True,\n",
    "                                                   seed=random_seed)"
   ]
  },
  {
   "cell_type": "code",
   "execution_count": 5,
   "metadata": {
    "collapsed": true
   },
   "outputs": [],
   "source": [
    "def predict_category(img_path, pred_model):\n",
    "    img_tensor = preprocessor.file_to_tensor(img_path)\n",
    "    h = pred_model.predict(img_tensor)\n",
    "    return categories[np.argmax(h)]"
   ]
  },
  {
   "cell_type": "code",
   "execution_count": 6,
   "metadata": {
    "collapsed": true
   },
   "outputs": [],
   "source": [
    "def f1_score_cal(model=None):\n",
    "    test_images = np.array(glob(os.path.join(test_dir, \"*\", \"*\")))\n",
    "    y_true = []\n",
    "    y_pred = []\n",
    "    for img in test_images:\n",
    "        y_true.append(categories.index(re.split(r'[\\\\/]',img)[-2]))\n",
    "        pred = predict_category(img, model)\n",
    "        y_pred.append(categories.index(pred))\n",
    "    \n",
    "    return f1_score(y_true, y_pred, average='weighted')"
   ]
  },
  {
   "cell_type": "code",
   "execution_count": 8,
   "metadata": {
    "collapsed": true
   },
   "outputs": [],
   "source": [
    "models = []\n",
    "modelnames = []\n",
    "f1_scores = []"
   ]
  },
  {
   "cell_type": "markdown",
   "metadata": {},
   "source": [
    "# Hidden Layer Sizes\n",
    "\n",
    "In the section below, we will train the model with different sizes of the hidden layer:\n",
    "- 16 nodes\n",
    "- 32 nodes\n",
    "- 64 nodes\n",
    "- 128 nodes\n",
    "- 256 nodes\n",
    "- 512 nodes\n",
    "- 1024 nodes"
   ]
  },
  {
   "cell_type": "code",
   "execution_count": 9,
   "metadata": {},
   "outputs": [
    {
     "name": "stdout",
     "output_type": "stream",
     "text": [
      "inceptionv3_16nodes\n",
      "Epoch 1/3\n",
      "92/93 [============================>.] - ETA: 1s - loss: 1.0129 - acc: 0.6368"
     ]
    },
    {
     "name": "stderr",
     "output_type": "stream",
     "text": [
      "C:\\Users\\donke\\Anaconda2\\envs\\cnn_image_classification\\lib\\site-packages\\PIL\\Image.py:916: UserWarning: Palette images with Transparency   expressed in bytes should be converted to RGBA images\n",
      "  'to RGBA images')\n"
     ]
    },
    {
     "name": "stdout",
     "output_type": "stream",
     "text": [
      "Epoch 00000: val_loss improved from inf to 0.65292, saving model to saved_models\\inceptionv3_16nodes.hdf5\n",
      "93/93 [==============================] - 136s - loss: 1.0064 - acc: 0.6386 - val_loss: 0.6529 - val_acc: 0.7976\n",
      "Epoch 2/3\n",
      "92/93 [============================>.] - ETA: 0s - loss: 0.4107 - acc: 0.8582Epoch 00001: val_loss improved from 0.65292 to 0.56773, saving model to saved_models\\inceptionv3_16nodes.hdf5\n",
      "93/93 [==============================] - 121s - loss: 0.4091 - acc: 0.8581 - val_loss: 0.5677 - val_acc: 0.8183\n",
      "Epoch 3/3\n",
      "92/93 [============================>.] - ETA: 0s - loss: 0.3515 - acc: 0.8876Epoch 00002: val_loss improved from 0.56773 to 0.48707, saving model to saved_models\\inceptionv3_16nodes.hdf5\n",
      "93/93 [==============================] - 116s - loss: 0.3489 - acc: 0.8888 - val_loss: 0.4871 - val_acc: 0.8406\n",
      "inceptionv3_32nodes\n",
      "Epoch 1/3\n",
      "92/93 [============================>.] - ETA: 0s - loss: 1.0051 - acc: 0.6343Epoch 00000: val_loss improved from inf to 0.65020, saving model to saved_models\\inceptionv3_32nodes.hdf5\n",
      "93/93 [==============================] - 136s - loss: 0.9971 - acc: 0.6372 - val_loss: 0.6502 - val_acc: 0.7993\n",
      "Epoch 2/3\n",
      "92/93 [============================>.] - ETA: 0s - loss: 0.3879 - acc: 0.8692Epoch 00001: val_loss did not improve\n",
      "93/93 [==============================] - 118s - loss: 0.3874 - acc: 0.8695 - val_loss: 0.6600 - val_acc: 0.7803\n",
      "Epoch 3/3\n",
      "92/93 [============================>.] - ETA: 0s - loss: 0.2860 - acc: 0.9050Epoch 00002: val_loss improved from 0.65020 to 0.54453, saving model to saved_models\\inceptionv3_32nodes.hdf5\n",
      "93/93 [==============================] - 117s - loss: 0.2846 - acc: 0.9060 - val_loss: 0.5445 - val_acc: 0.8374\n",
      "inceptionv3_64nodes\n",
      "Epoch 1/3\n",
      "92/93 [============================>.] - ETA: 0s - loss: 1.0075 - acc: 0.6561Epoch 00000: val_loss improved from inf to 0.65996, saving model to saved_models\\inceptionv3_64nodes.hdf5\n",
      "93/93 [==============================] - 148s - loss: 1.0036 - acc: 0.6566 - val_loss: 0.6600 - val_acc: 0.7820\n",
      "Epoch 2/3\n",
      "92/93 [============================>.] - ETA: 1s - loss: 0.3952 - acc: 0.8689Epoch 00001: val_loss improved from 0.65996 to 0.54277, saving model to saved_models\\inceptionv3_64nodes.hdf5\n",
      "93/93 [==============================] - 140s - loss: 0.3935 - acc: 0.8698 - val_loss: 0.5428 - val_acc: 0.8336\n",
      "Epoch 3/3\n",
      "92/93 [============================>.] - ETA: 0s - loss: 0.2851 - acc: 0.9039Epoch 00002: val_loss did not improve\n",
      "93/93 [==============================] - 130s - loss: 0.2864 - acc: 0.9033 - val_loss: 0.5945 - val_acc: 0.8080\n",
      "inceptionv3_128nodes\n",
      "Epoch 1/3\n",
      "92/93 [============================>.] - ETA: 1s - loss: 0.9863 - acc: 0.6566Epoch 00000: val_loss improved from inf to 0.66206, saving model to saved_models\\inceptionv3_128nodes.hdf5\n",
      "93/93 [==============================] - 162s - loss: 0.9795 - acc: 0.6597 - val_loss: 0.6621 - val_acc: 0.7820\n",
      "Epoch 2/3\n",
      "92/93 [============================>.] - ETA: 0s - loss: 0.3911 - acc: 0.8674Epoch 00001: val_loss improved from 0.66206 to 0.57992, saving model to saved_models\\inceptionv3_128nodes.hdf5\n",
      "93/93 [==============================] - 129s - loss: 0.3895 - acc: 0.8677 - val_loss: 0.5799 - val_acc: 0.8097\n",
      "Epoch 3/3\n",
      "92/93 [============================>.] - ETA: 0s - loss: 0.2904 - acc: 0.8969Epoch 00002: val_loss improved from 0.57992 to 0.47004, saving model to saved_models\\inceptionv3_128nodes.hdf5\n",
      "93/93 [==============================] - 129s - loss: 0.2895 - acc: 0.8969 - val_loss: 0.4700 - val_acc: 0.8408\n",
      "inceptionv3_256nodes\n",
      "Epoch 1/3\n",
      "92/93 [============================>.] - ETA: 1s - loss: 0.9460 - acc: 0.6802Epoch 00000: val_loss improved from inf to 0.55347, saving model to saved_models\\inceptionv3_256nodes.hdf5\n",
      "93/93 [==============================] - 164s - loss: 0.9412 - acc: 0.6810 - val_loss: 0.5535 - val_acc: 0.8144\n",
      "Epoch 2/3\n",
      "92/93 [============================>.] - ETA: 0s - loss: 0.3871 - acc: 0.8838Epoch 00001: val_loss did not improve\n",
      "93/93 [==============================] - 131s - loss: 0.3877 - acc: 0.8823 - val_loss: 0.5898 - val_acc: 0.8166\n",
      "Epoch 3/3\n",
      "92/93 [============================>.] - ETA: 0s - loss: 0.3023 - acc: 0.9013Epoch 00002: val_loss improved from 0.55347 to 0.53221, saving model to saved_models\\inceptionv3_256nodes.hdf5\n",
      "93/93 [==============================] - 129s - loss: 0.3032 - acc: 0.9002 - val_loss: 0.5322 - val_acc: 0.8097\n",
      "inceptionv3_512nodes\n",
      "Epoch 1/3\n",
      "92/93 [============================>.] - ETA: 1s - loss: 0.8724 - acc: 0.7037Epoch 00000: val_loss improved from inf to 0.53871, saving model to saved_models\\inceptionv3_512nodes.hdf5\n",
      "93/93 [==============================] - 175s - loss: 0.8676 - acc: 0.7058 - val_loss: 0.5387 - val_acc: 0.8235\n",
      "Epoch 2/3\n",
      "92/93 [============================>.] - ETA: 0s - loss: 0.3909 - acc: 0.8689Epoch 00001: val_loss improved from 0.53871 to 0.53610, saving model to saved_models\\inceptionv3_512nodes.hdf5\n",
      "93/93 [==============================] - 127s - loss: 0.3906 - acc: 0.8681 - val_loss: 0.5361 - val_acc: 0.8080\n",
      "Epoch 3/3\n",
      "92/93 [============================>.] - ETA: 0s - loss: 0.2987 - acc: 0.8991Epoch 00002: val_loss improved from 0.53610 to 0.50894, saving model to saved_models\\inceptionv3_512nodes.hdf5\n",
      "93/93 [==============================] - 129s - loss: 0.2979 - acc: 0.8985 - val_loss: 0.5089 - val_acc: 0.8109\n",
      "inceptionv3_1024nodes\n",
      "Epoch 1/3\n",
      "92/93 [============================>.] - ETA: 1s - loss: 0.8896 - acc: 0.6840Epoch 00000: val_loss improved from inf to 0.56750, saving model to saved_models\\inceptionv3_1024nodes.hdf5\n",
      "93/93 [==============================] - 187s - loss: 0.8871 - acc: 0.6847 - val_loss: 0.5675 - val_acc: 0.8270\n",
      "Epoch 2/3\n",
      "92/93 [============================>.] - ETA: 0s - loss: 0.3731 - acc: 0.8795Epoch 00001: val_loss improved from 0.56750 to 0.53467, saving model to saved_models\\inceptionv3_1024nodes.hdf5\n",
      "93/93 [==============================] - 129s - loss: 0.3703 - acc: 0.8808 - val_loss: 0.5347 - val_acc: 0.8028\n",
      "Epoch 3/3\n",
      "92/93 [============================>.] - ETA: 0s - loss: 0.2837 - acc: 0.8990Epoch 00002: val_loss did not improve\n",
      "93/93 [==============================] - 130s - loss: 0.2825 - acc: 0.8995 - val_loss: 0.5938 - val_acc: 0.8253\n"
     ]
    }
   ],
   "source": [
    "for nodes in [16, 32, 64, 128, 256, 512, 1024]:\n",
    "    modelname = 'inceptionv3_' + str(nodes) + 'nodes'\n",
    "    print(modelname)\n",
    "    checkpointer = ModelCheckpoint(filepath=os.path.join(saved_models_dir, modelname + '.hdf5'), \n",
    "                           verbose=1, save_best_only=True)\n",
    "    \n",
    "    model = InceptionV3(include_top=False, weights = 'imagenet', input_shape = (target_imagesize[0], target_imagesize[1], 3))\n",
    "    for layer in model.layers:\n",
    "        layer.trainable = False\n",
    "        \n",
    "    # custom Layers \n",
    "    cus_layers = model.output\n",
    "    cus_layers = Flatten()(cus_layers)\n",
    "    \n",
    "    cus_layers = Dense(nodes, activation=\"relu\")(cus_layers)\n",
    "    predictions = Dense(len(categories), activation=\"softmax\")(cus_layers)\n",
    "    \n",
    "    model_final = Model(inputs = model.input, outputs = predictions)\n",
    "    model_final.compile(loss = \"categorical_crossentropy\", optimizer = optimizers.SGD(lr=0.0001, momentum=0.9), metrics=['accuracy'])\n",
    "    # train the model\n",
    "    model_final.fit_generator(train_generator,\n",
    "                             steps_per_epoch=training_count // epochs, \n",
    "                              epochs=epochs,\n",
    "                             validation_data = validation_generator,\n",
    "                             validation_steps=validation_count // epochs,\n",
    "                             callbacks=[checkpointer],\n",
    "                             verbose=1)\n",
    "    \n",
    "    model_final.load_weights(filepath=os.path.join(saved_models_dir, modelname + '.hdf5'))\n",
    "    \n",
    "    models.append(model_final)\n",
    "    modelnames.append(modelname)"
   ]
  },
  {
   "cell_type": "markdown",
   "metadata": {},
   "source": [
    "## Scoring the models\n",
    "\n",
    "Now that all variations of the model have been trained, we can calculate their respective F1 scores to see if any of them stand out in terms of performance."
   ]
  },
  {
   "cell_type": "code",
   "execution_count": 10,
   "metadata": {},
   "outputs": [
    {
     "name": "stdout",
     "output_type": "stream",
     "text": [
      "inceptionv3_16nodes 0.808412667198\n",
      "inceptionv3_32nodes 0.801847841651\n",
      "inceptionv3_64nodes 0.816557286497\n",
      "inceptionv3_128nodes 0.818479896273\n",
      "inceptionv3_256nodes 0.858061936774\n",
      "inceptionv3_512nodes 0.832240186162\n",
      "inceptionv3_1024nodes 0.826741946941\n"
     ]
    }
   ],
   "source": [
    "for i, model in enumerate(models):\n",
    "    f1score = f1_score_cal(model)\n",
    "    f1_scores.append(f1score)\n",
    "    print(modelnames[i], f1score)"
   ]
  },
  {
   "cell_type": "code",
   "execution_count": 11,
   "metadata": {},
   "outputs": [
    {
     "data": {
      "image/png": "[encoded data removed]",
      "text/plain": [
       "<matplotlib.figure.Figure at 0x229ac6314a8>"
      ]
     },
     "metadata": {},
     "output_type": "display_data"
    }
   ],
   "source": [
    "fig, ax = plt.subplots()\n",
    "\n",
    "index = np.arange(7)\n",
    "\n",
    "rects1 = ax.bar(index, f1_scores)\n",
    "\n",
    "ax.set_ylabel('F1 Score')\n",
    "ax.set_title('F1 Scores per model')\n",
    "ax.set_xticks(index)\n",
    "ax.set_xticklabels([16, 32, 64, 128, 256, 512, 1024])\n",
    "\n",
    "fig.tight_layout()\n",
    "plt.show()"
   ]
  },
  {
   "cell_type": "markdown",
   "metadata": {
    "collapsed": true
   },
   "source": [
    "## Conclusion\n",
    "\n",
    "The size of the hidden layer seems to be arbitrary as their results don't vary much at all. All variations took around the same time to train (between 5 and 10 minutes), so we'll just choose the layer size that gave the best result in terms of F1 score; **256 nodes** in the hidden layer."
   ]
  },
  {
   "cell_type": "markdown",
   "metadata": {},
   "source": [
    "# Dropout Values\n",
    "\n",
    "We want our model to be able to look at an image and predict what category the image should be in. We don't want our model to just memorize the images it has seen in the training phase.\n",
    "\n",
    "When a model starts memorizing images rather than learning generic features, it starts to overfit. It will have excellent results on images in the training set, but it might not be able to categorize images it hasn't seen before.\n",
    "\n",
    "One way to combat this, is by adding a **dropout layer**. With a dropout layer, we take a percentage of random nodes for each step and deactivate them. This way, the model is forced to 'forget' some of the information it learned.\n",
    "\n",
    "![title](notebook_images/nodropout_vs_dropout.jpg)"
   ]
  },
  {
   "cell_type": "code",
   "execution_count": 9,
   "metadata": {},
   "outputs": [
    {
     "name": "stdout",
     "output_type": "stream",
     "text": [
      "inceptionv3_256nodes_0.1dropout\n",
      "Epoch 1/3\n",
      "92/93 [============================>.] - ETA: 0s - loss: 0.9991 - acc: 0.6591"
     ]
    },
    {
     "name": "stderr",
     "output_type": "stream",
     "text": [
      "C:\\Users\\donke\\Anaconda2\\envs\\cnn_image_classification\\lib\\site-packages\\PIL\\Image.py:916: UserWarning: Palette images with Transparency   expressed in bytes should be converted to RGBA images\n",
      "  'to RGBA images')\n"
     ]
    },
    {
     "name": "stdout",
     "output_type": "stream",
     "text": [
      "Epoch 00000: val_loss improved from inf to 0.65562, saving model to saved_models\\inceptionv3_256nodes_0.1dropout.hdf5\n",
      "93/93 [==============================] - 137s - loss: 0.9955 - acc: 0.6612 - val_loss: 0.6556 - val_acc: 0.8149\n",
      "Epoch 2/3\n",
      "92/93 [============================>.] - ETA: 0s - loss: 0.3935 - acc: 0.8779Epoch 00001: val_loss improved from 0.65562 to 0.54802, saving model to saved_models\\inceptionv3_256nodes_0.1dropout.hdf5\n",
      "93/93 [==============================] - 118s - loss: 0.3912 - acc: 0.8786 - val_loss: 0.5480 - val_acc: 0.8304\n",
      "Epoch 3/3\n",
      "92/93 [============================>.] - ETA: 0s - loss: 0.3471 - acc: 0.8837Epoch 00002: val_loss improved from 0.54802 to 0.51973, saving model to saved_models\\inceptionv3_256nodes_0.1dropout.hdf5\n",
      "93/93 [==============================] - 117s - loss: 0.3450 - acc: 0.8844 - val_loss: 0.5197 - val_acc: 0.8284\n",
      "inceptionv3_256nodes_0.2dropout\n",
      "Epoch 1/3\n",
      "92/93 [============================>.] - ETA: 1s - loss: 1.0132 - acc: 0.6448Epoch 00000: val_loss improved from inf to 0.63271, saving model to saved_models\\inceptionv3_256nodes_0.2dropout.hdf5\n",
      "93/93 [==============================] - 150s - loss: 1.0048 - acc: 0.6481 - val_loss: 0.6327 - val_acc: 0.7924\n",
      "Epoch 2/3\n",
      "92/93 [============================>.] - ETA: 0s - loss: 0.4367 - acc: 0.8511Epoch 00001: val_loss did not improve\n",
      "93/93 [==============================] - 119s - loss: 0.4392 - acc: 0.8500 - val_loss: 0.6360 - val_acc: 0.8114\n",
      "Epoch 3/3\n",
      "92/93 [============================>.] - ETA: 0s - loss: 0.3409 - acc: 0.8766Epoch 00002: val_loss improved from 0.63271 to 0.54818, saving model to saved_models\\inceptionv3_256nodes_0.2dropout.hdf5\n",
      "93/93 [==============================] - 118s - loss: 0.3397 - acc: 0.8769 - val_loss: 0.5482 - val_acc: 0.8218\n",
      "inceptionv3_256nodes_0.4dropout\n",
      "Epoch 1/3\n",
      "92/93 [============================>.] - ETA: 1s - loss: 1.1490 - acc: 0.5933Epoch 00000: val_loss improved from inf to 0.69401, saving model to saved_models\\inceptionv3_256nodes_0.4dropout.hdf5\n",
      "93/93 [==============================] - 172s - loss: 1.1463 - acc: 0.5945 - val_loss: 0.6940 - val_acc: 0.7803\n",
      "Epoch 2/3\n",
      "92/93 [============================>.] - ETA: 0s - loss: 0.5326 - acc: 0.8209Epoch 00001: val_loss improved from 0.69401 to 0.54079, saving model to saved_models\\inceptionv3_256nodes_0.4dropout.hdf5\n",
      "93/93 [==============================] - 126s - loss: 0.5304 - acc: 0.8217 - val_loss: 0.5408 - val_acc: 0.8266\n",
      "Epoch 3/3\n",
      "92/93 [============================>.] - ETA: 0s - loss: 0.4088 - acc: 0.8624Epoch 00002: val_loss did not improve\n",
      "93/93 [==============================] - 125s - loss: 0.4109 - acc: 0.8612 - val_loss: 0.5476 - val_acc: 0.8097\n",
      "inceptionv3_256nodes_0.5dropout\n",
      "Epoch 1/3\n",
      "92/93 [============================>.] - ETA: 1s - loss: 1.2086 - acc: 0.5638Epoch 00000: val_loss improved from inf to 0.56212, saving model to saved_models\\inceptionv3_256nodes_0.5dropout.hdf5\n",
      "93/93 [==============================] - 186s - loss: 1.2031 - acc: 0.5664 - val_loss: 0.5621 - val_acc: 0.8426\n",
      "Epoch 2/3\n",
      "92/93 [============================>.] - ETA: 0s - loss: 0.5756 - acc: 0.8025Epoch 00001: val_loss improved from 0.56212 to 0.50118, saving model to saved_models\\inceptionv3_256nodes_0.5dropout.hdf5\n",
      "93/93 [==============================] - 127s - loss: 0.5782 - acc: 0.8020 - val_loss: 0.5012 - val_acc: 0.8235\n",
      "Epoch 3/3\n",
      "92/93 [============================>.] - ETA: 0s - loss: 0.4500 - acc: 0.8392Epoch 00002: val_loss improved from 0.50118 to 0.46585, saving model to saved_models\\inceptionv3_256nodes_0.5dropout.hdf5\n",
      "93/93 [==============================] - 127s - loss: 0.4506 - acc: 0.8388 - val_loss: 0.4659 - val_acc: 0.8374\n",
      "inceptionv3_256nodes_0.8dropout\n",
      "Epoch 1/3\n",
      "92/93 [============================>.] - ETA: 1s - loss: 1.7140 - acc: 0.3927Epoch 00000: val_loss improved from inf to 0.95171, saving model to saved_models\\inceptionv3_256nodes_0.8dropout.hdf5\n",
      "93/93 [==============================] - 202s - loss: 1.7103 - acc: 0.3950 - val_loss: 0.9517 - val_acc: 0.7426\n",
      "Epoch 2/3\n",
      "92/93 [============================>.] - ETA: 0s - loss: 1.0895 - acc: 0.6047Epoch 00001: val_loss improved from 0.95171 to 0.71627, saving model to saved_models\\inceptionv3_256nodes_0.8dropout.hdf5\n",
      "93/93 [==============================] - 129s - loss: 1.0887 - acc: 0.6046 - val_loss: 0.7163 - val_acc: 0.7751\n",
      "Epoch 3/3\n",
      "92/93 [============================>.] - ETA: 0s - loss: 0.8640 - acc: 0.6981Epoch 00002: val_loss improved from 0.71627 to 0.55371, saving model to saved_models\\inceptionv3_256nodes_0.8dropout.hdf5\n",
      "93/93 [==============================] - 128s - loss: 0.8654 - acc: 0.6976 - val_loss: 0.5537 - val_acc: 0.8287\n"
     ]
    }
   ],
   "source": [
    "models = []\n",
    "modelnames = []\n",
    "f1_scores = []\n",
    "for d in [0.1, 0.2, 0.4, 0.5, 0.8]:\n",
    "    model = load_model(os.path.join('saved_models', 'inceptionv3_256nodes.hdf5'))\n",
    "    modelname = 'inceptionv3_256nodes_' + str(d) + 'dropout'\n",
    "    print(modelname)\n",
    "    checkpointer = ModelCheckpoint(filepath=os.path.join(saved_models_dir, modelname + '.hdf5'), \n",
    "                           verbose=1, save_best_only=True)\n",
    "    \n",
    "    model = InceptionV3(include_top=False, weights = 'imagenet', input_shape = (target_imagesize[0], target_imagesize[1], 3))\n",
    "    for layer in model.layers:\n",
    "        layer.trainable = False\n",
    "        \n",
    "    # custom Layers \n",
    "    cus_layers = model.output\n",
    "    cus_layers = Flatten()(cus_layers)\n",
    "    \n",
    "    cus_layers = Dense(256, activation=\"relu\")(cus_layers)\n",
    "    cus_layers = Dropout(d)(cus_layers)\n",
    "    predictions = Dense(len(categories), activation=\"softmax\")(cus_layers)\n",
    "    \n",
    "    model_final = Model(inputs = model.input, outputs = predictions)\n",
    "    model_final.compile(loss = \"categorical_crossentropy\", optimizer = optimizers.SGD(lr=0.0001, momentum=0.9), metrics=['accuracy'])\n",
    "    # train the model\n",
    "    model_final.fit_generator(train_generator,\n",
    "                             steps_per_epoch=training_count // epochs, \n",
    "                              epochs=epochs,\n",
    "                             validation_data = validation_generator,\n",
    "                             validation_steps=validation_count // epochs,\n",
    "                             callbacks=[checkpointer],\n",
    "                             verbose=1)\n",
    "    \n",
    "    model_final.load_weights(filepath=os.path.join(saved_models_dir, modelname + '.hdf5'))\n",
    "    \n",
    "    models.append(model_final)\n",
    "    modelnames.append(modelname)"
   ]
  },
  {
   "cell_type": "markdown",
   "metadata": {},
   "source": [
    "## Scoring the models\n",
    "\n",
    "Like before, we will calculate the F1 scores on the new set of models to determine which one performs the best."
   ]
  },
  {
   "cell_type": "code",
   "execution_count": 11,
   "metadata": {},
   "outputs": [
    {
     "name": "stdout",
     "output_type": "stream",
     "text": [
      "inceptionv3_256nodes_0.1dropout 0.826881712703\n",
      "inceptionv3_256nodes_0.2dropout 0.830371429256\n",
      "inceptionv3_256nodes_0.4dropout 0.844036058827\n",
      "inceptionv3_256nodes_0.5dropout 0.831721006114\n",
      "inceptionv3_256nodes_0.8dropout 0.850815913088\n"
     ]
    }
   ],
   "source": [
    "for i, model in enumerate(models):\n",
    "    f1score = f1_score_cal(model)\n",
    "    f1_scores.append(f1score)\n",
    "    print(modelnames[i], f1score)"
   ]
  },
  {
   "cell_type": "code",
   "execution_count": 13,
   "metadata": {},
   "outputs": [
    {
     "data": {
      "image/png": "[encoded data removed]",
      "text/plain": [
       "<matplotlib.figure.Figure at 0x1b196ce8be0>"
      ]
     },
     "metadata": {},
     "output_type": "display_data"
    }
   ],
   "source": [
    "fig, ax = plt.subplots()\n",
    "\n",
    "index = np.arange(5)\n",
    "\n",
    "rects1 = ax.bar(index, f1_scores)\n",
    "\n",
    "ax.set_ylabel('F1 Score')\n",
    "ax.set_title('F1 Scores per model')\n",
    "ax.set_xticks(index)\n",
    "ax.set_xticklabels([0.1, 0.2, 0.4, 0.5, 0.8])\n",
    "\n",
    "fig.tight_layout()\n",
    "plt.show()"
   ]
  },
  {
   "cell_type": "markdown",
   "metadata": {
    "collapsed": true
   },
   "source": [
    "## Conclusion\n",
    "\n",
    "Like the amount of nodes in the hidden layer, the amount of dropout seems to be arbitrary as well. It might be because the dataset is relatively small, so it never gets a chance to overfit.\n",
    "\n",
    "We'll choose a dropout that's somewhere in the middle of the range; **0.4**, which achieved an F1 score of *0.844*."
   ]
  },
  {
   "cell_type": "code",
   "execution_count": null,
   "metadata": {
    "collapsed": true
   },
   "outputs": [],
   "source": []
  }
 ],
 "metadata": {
  "kernelspec": {
   "display_name": "Python [conda env:cnn_image_classification]",
   "language": "python",
   "name": "conda-env-cnn_image_classification-py"
  },
  "language_info": {
   "codemirror_mode": {
    "name": "ipython",
    "version": 3
   },
   "file_extension": ".py",
   "mimetype": "text/x-python",
   "name": "python",
   "nbconvert_exporter": "python",
   "pygments_lexer": "ipython3",
   "version": "3.6.3"
  }
 },
 "nbformat": 4,
 "nbformat_minor": 2
}
