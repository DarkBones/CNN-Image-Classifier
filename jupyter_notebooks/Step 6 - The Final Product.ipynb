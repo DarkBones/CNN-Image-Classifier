{
 "cells": [
  {
   "cell_type": "markdown",
   "metadata": {},
   "source": [
    "# Step 6 - The Final Product\n",
    "\n",
    "We have everything we need from our model. We're able to train the model and we're able to classify images with it.\n",
    "\n",
    "In this notebook, I describe how I made the user interface, so we can train and run the model with a few simple commands."
   ]
  },
  {
   "cell_type": "markdown",
   "metadata": {
    "collapsed": true
   },
   "source": [
    "## The Goal\n",
    "\n",
    "To make the application easy to use for users who might not know a lot about machine learning, I want them to be able to train the model and run the classifier using only 1 command for each:\n",
    "\n",
    "### Training the model:\n",
    "After creating a dataset, users should be able to train a good model using the following command:\n",
    ">train.py\n",
    "\n",
    "#### Optional parameters:\n",
    "\n",
    "Parameter|Description|Default Value|\n",
    "-|-|-\n",
    "-model_dir|Directory where the model will be saved to|saved_models\n",
    "-model_name|The name of the finished model (will automatically append '.hdf5' is missing)|cnn_image_model.hdf5\n",
    "-data_dir|The root directory of the image dataset|images\n",
    "-clear|If set to 'True', all instances in the training, validation, and test data will be cleared before training the model|True\n",
    "-augmentations|How many times each image should be augmented|25\n",
    "-patience|How many epochs without improvement on validation_loss should occur before the model stops training|20\n",
    "-epochs|The maximum amount of epochs to train the model on|500\n",
    "\n",
    "#### Example:\n",
    ">train.py -clear False -augmentations 5 model_name new_model\n",
    "\n",
    "The example above will not delete any existing data in the training, validation and test sets, it will train the model using 5 augmentations for each image and it will save the model as *new_model.hdf5*.\n",
    "\n",
    "**NOTE:** After the model has been trained, the script will also save a text file with the same name and in the same location as the model containing all the categories. This file can later be read by *process.py* so it knows what categories to use.\n",
    "\n",
    "### Running the model on Images\n",
    "When we have a trained model, we can run the following command to classify some images:\n",
    ">process.py\n",
    "\n",
    "#### Optional parameters:\n",
    "\n",
    "Parameter|Description|Default Value\n",
    "-|-|-\n",
    "-model_dir|Location of the model we trained using *train.py* earlier|saved_models\n",
    "-model_name|The name of the trained model (will automatically append '.hdf5' is missing)|cnn_image_model.hdf5\n",
    "-image_dir|The location of the images the model needs to classify|test_images\n",
    "-threshold|How confident the model needs to be in order to classify an image as a category|0.1\n",
    "-copy|If set to 'True', it will keep the original images after they have been classified|True\n",
    "\n",
    "When *process.py* is run, it will create subdirectories for each of the categories and copy the original images to them based on the model's predictions and the processor's threshold."
   ]
  },
  {
   "cell_type": "code",
   "execution_count": null,
   "metadata": {
    "collapsed": true
   },
   "outputs": [],
   "source": []
  }
 ],
 "metadata": {
  "kernelspec": {
   "display_name": "Python [conda env:cnn_image_classification]",
   "language": "python",
   "name": "conda-env-cnn_image_classification-py"
  },
  "language_info": {
   "codemirror_mode": {
    "name": "ipython",
    "version": 3
   },
   "file_extension": ".py",
   "mimetype": "text/x-python",
   "name": "python",
   "nbconvert_exporter": "python",
   "pygments_lexer": "ipython3",
   "version": "3.6.3"
  }
 },
 "nbformat": 4,
 "nbformat_minor": 2
}
